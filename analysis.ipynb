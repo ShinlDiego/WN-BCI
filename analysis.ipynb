{
 "cells": [
  {
   "cell_type": "code",
   "execution_count": 1,
   "metadata": {},
   "outputs": [],
   "source": [
    "import matplotlib.pyplot as plt\n",
    "import seaborn as sns\n",
    "from mne.decoding import ReceptiveField\n",
    "import pickle\n",
    "import numpy as np\n",
    "import  modin.pandas as pd\n",
    "import os\n",
    "from tqdm import tqdm\n",
    "from NRC import NRC,recordModule\n",
    "from matplotlib.pyplot import MultipleLocator\n",
    "from matplotlib.gridspec import GridSpec\n",
    "from utils import returnSpec\n",
    "from distributed import Client\n",
    "client = Client()"
   ]
  },
  {
   "cell_type": "markdown",
   "metadata": {},
   "source": [
    "## 数据导入\n",
    "可以选择导入 *exp* 文件夹中的‘EEG’，’TRF‘，或者’stimulus'文件。文件都是按照pickle格式存储。因为将所有的数据都汇总到一起，所以数据的读写时间会比较长。"
   ]
  },
  {
   "cell_type": "markdown",
   "metadata": {},
   "source": [
    "### TRFs"
   ]
  },
  {
   "cell_type": "code",
   "execution_count": 9,
   "metadata": {},
   "outputs": [
    {
     "data": {
      "text/html": [
       "<div>\n",
       "<style scoped>\n",
       "    .dataframe tbody tr th:only-of-type {\n",
       "        vertical-align: middle;\n",
       "    }\n",
       "\n",
       "    .dataframe tbody tr th {\n",
       "        vertical-align: top;\n",
       "    }\n",
       "\n",
       "    .dataframe thead th {\n",
       "        text-align: right;\n",
       "    }\n",
       "</style>\n",
       "<table border=\"1\" class=\"dataframe\">\n",
       "  <thead>\n",
       "    <tr style=\"text-align: right;\">\n",
       "      <th></th>\n",
       "      <th>Unnamed: 0.1</th>\n",
       "      <th>channel</th>\n",
       "      <th>lags</th>\n",
       "      <th>trf</th>\n",
       "      <th>condition</th>\n",
       "      <th>feauture</th>\n",
       "      <th>subject</th>\n",
       "      <th>type</th>\n",
       "      <th>tag</th>\n",
       "      <th>Unnamed: 0</th>\n",
       "    </tr>\n",
       "  </thead>\n",
       "  <tbody>\n",
       "    <tr>\n",
       "      <th>0</th>\n",
       "      <td>0</td>\n",
       "      <td>PZ</td>\n",
       "      <td>-0.2</td>\n",
       "      <td>-1.391148</td>\n",
       "      <td>19</td>\n",
       "      <td>0</td>\n",
       "      <td>shinanlin</td>\n",
       "      <td>shuffled</td>\n",
       "      <td>wn</td>\n",
       "      <td>NaN</td>\n",
       "    </tr>\n",
       "    <tr>\n",
       "      <th>1</th>\n",
       "      <td>1</td>\n",
       "      <td>PO5</td>\n",
       "      <td>-0.2</td>\n",
       "      <td>-0.174643</td>\n",
       "      <td>19</td>\n",
       "      <td>0</td>\n",
       "      <td>shinanlin</td>\n",
       "      <td>shuffled</td>\n",
       "      <td>wn</td>\n",
       "      <td>NaN</td>\n",
       "    </tr>\n",
       "    <tr>\n",
       "      <th>2</th>\n",
       "      <td>2</td>\n",
       "      <td>POZ</td>\n",
       "      <td>-0.2</td>\n",
       "      <td>-1.461122</td>\n",
       "      <td>19</td>\n",
       "      <td>0</td>\n",
       "      <td>shinanlin</td>\n",
       "      <td>shuffled</td>\n",
       "      <td>wn</td>\n",
       "      <td>NaN</td>\n",
       "    </tr>\n",
       "    <tr>\n",
       "      <th>3</th>\n",
       "      <td>3</td>\n",
       "      <td>PO4</td>\n",
       "      <td>-0.2</td>\n",
       "      <td>-1.362225</td>\n",
       "      <td>19</td>\n",
       "      <td>0</td>\n",
       "      <td>shinanlin</td>\n",
       "      <td>shuffled</td>\n",
       "      <td>wn</td>\n",
       "      <td>NaN</td>\n",
       "    </tr>\n",
       "    <tr>\n",
       "      <th>4</th>\n",
       "      <td>4</td>\n",
       "      <td>PO6</td>\n",
       "      <td>-0.2</td>\n",
       "      <td>-1.248375</td>\n",
       "      <td>19</td>\n",
       "      <td>0</td>\n",
       "      <td>shinanlin</td>\n",
       "      <td>shuffled</td>\n",
       "      <td>wn</td>\n",
       "      <td>NaN</td>\n",
       "    </tr>\n",
       "  </tbody>\n",
       "</table>\n",
       "</div>"
      ],
      "text/plain": [
       "   Unnamed: 0.1 channel  lags       trf  condition  feauture    subject  \\\n",
       "0             0      PZ  -0.2 -1.391148         19         0  shinanlin   \n",
       "1             1     PO5  -0.2 -0.174643         19         0  shinanlin   \n",
       "2             2     POZ  -0.2 -1.461122         19         0  shinanlin   \n",
       "3             3     PO4  -0.2 -1.362225         19         0  shinanlin   \n",
       "4             4     PO6  -0.2 -1.248375         19         0  shinanlin   \n",
       "\n",
       "       type tag  Unnamed: 0  \n",
       "0  shuffled  wn         NaN  \n",
       "1  shuffled  wn         NaN  \n",
       "2  shuffled  wn         NaN  \n",
       "3  shuffled  wn         NaN  \n",
       "4  shuffled  wn         NaN  "
      ]
     },
     "execution_count": 9,
     "metadata": {},
     "output_type": "execute_result"
    }
   ],
   "source": [
    "TRFs = []\n",
    "add = 'results/offline'\n",
    "subs = os.listdir(add)\n",
    "\n",
    "for sub in subs:\n",
    "    subFolder = add+os.sep+sub \n",
    "    f = pd.read_csv(subFolder+os.sep+'TRF.csv')\n",
    "    TRFs.append(f)\n",
    "\n",
    "TRFs = pd.concat(TRFs,ignore_index=True)\n",
    "TRFs.head()"
   ]
  },
  {
   "cell_type": "markdown",
   "metadata": {},
   "source": [
    "TRF的frame中\n",
    "1. channel 代表通道标签\n",
    "2. lags代表延迟的时间轴\n",
    "3. trf代表TRF的幅度\n",
    "4. condition是trigger标记，1-20是whitenoise;20-40是m-seq；40-60是ssvep\n",
    "5. type代表TRF有没有被正则化：whitened代表正则化，unwhitened是纯互相关\n",
    "6. tag是刺激类型：白噪声，ssvep和mseq"
   ]
  },
  {
   "cell_type": "markdown",
   "metadata": {},
   "source": [
    "# TRF analysis"
   ]
  },
  {
   "cell_type": "code",
   "execution_count": 15,
   "metadata": {},
   "outputs": [
    {
     "data": {
      "text/html": [
       "<div>\n",
       "<style scoped>\n",
       "    .dataframe tbody tr th:only-of-type {\n",
       "        vertical-align: middle;\n",
       "    }\n",
       "\n",
       "    .dataframe tbody tr th {\n",
       "        vertical-align: top;\n",
       "    }\n",
       "\n",
       "    .dataframe thead th {\n",
       "        text-align: right;\n",
       "    }\n",
       "</style>\n",
       "<table border=\"1\" class=\"dataframe\">\n",
       "  <thead>\n",
       "    <tr style=\"text-align: right;\">\n",
       "      <th></th>\n",
       "      <th>tag</th>\n",
       "      <th>lags</th>\n",
       "      <th>type</th>\n",
       "      <th>trf</th>\n",
       "    </tr>\n",
       "  </thead>\n",
       "  <tbody>\n",
       "    <tr>\n",
       "      <th>0</th>\n",
       "      <td>wn</td>\n",
       "      <td>-0.200000</td>\n",
       "      <td>locked</td>\n",
       "      <td>-0.152731</td>\n",
       "    </tr>\n",
       "    <tr>\n",
       "      <th>1</th>\n",
       "      <td>wn</td>\n",
       "      <td>-0.200000</td>\n",
       "      <td>shuffled</td>\n",
       "      <td>-0.048367</td>\n",
       "    </tr>\n",
       "    <tr>\n",
       "      <th>2</th>\n",
       "      <td>wn</td>\n",
       "      <td>-0.195833</td>\n",
       "      <td>locked</td>\n",
       "      <td>-0.151205</td>\n",
       "    </tr>\n",
       "    <tr>\n",
       "      <th>3</th>\n",
       "      <td>wn</td>\n",
       "      <td>-0.195833</td>\n",
       "      <td>shuffled</td>\n",
       "      <td>-0.078762</td>\n",
       "    </tr>\n",
       "    <tr>\n",
       "      <th>4</th>\n",
       "      <td>wn</td>\n",
       "      <td>-0.191667</td>\n",
       "      <td>locked</td>\n",
       "      <td>-0.120206</td>\n",
       "    </tr>\n",
       "  </tbody>\n",
       "</table>\n",
       "</div>"
      ],
      "text/plain": [
       "  tag      lags      type       trf\n",
       "0  wn -0.200000    locked -0.152731\n",
       "1  wn -0.200000  shuffled -0.048367\n",
       "2  wn -0.195833    locked -0.151205\n",
       "3  wn -0.195833  shuffled -0.078762\n",
       "4  wn -0.191667    locked -0.120206"
      ]
     },
     "execution_count": 15,
     "metadata": {},
     "output_type": "execute_result"
    }
   ],
   "source": [
    "ave = TRFs[['trf','lags','tag','type']].groupby(by=['tag', 'lags','type',],as_index=False).mean()\n",
    "ave.head()"
   ]
  },
  {
   "cell_type": "code",
   "execution_count": 20,
   "metadata": {},
   "outputs": [
    {
     "data": {
      "image/png": "[encoded data removed]",
      "text/plain": [
       "<Figure size 432x288 with 1 Axes>"
      ]
     },
     "metadata": {},
     "output_type": "display_data"
    }
   ],
   "source": [
    "sns.set_theme(style='white')\n",
    "sns.lineplot(data=ave, x='lags', y='trf', hue='type',style='type',linewidth=2)\n",
    "sns.despine()"
   ]
  },
  {
   "cell_type": "markdown",
   "metadata": {},
   "source": [
    "# EEG analysis"
   ]
  },
  {
   "cell_type": "markdown",
   "metadata": {},
   "source": [
    "### EEGs"
   ]
  },
  {
   "cell_type": "code",
   "execution_count": 23,
   "metadata": {},
   "outputs": [
    {
     "data": {
      "text/html": [
       "<div>\n",
       "<style scoped>\n",
       "    .dataframe tbody tr th:only-of-type {\n",
       "        vertical-align: middle;\n",
       "    }\n",
       "\n",
       "    .dataframe tbody tr th {\n",
       "        vertical-align: top;\n",
       "    }\n",
       "\n",
       "    .dataframe thead th {\n",
       "        text-align: right;\n",
       "    }\n",
       "</style>\n",
       "<table border=\"1\" class=\"dataframe\">\n",
       "  <thead>\n",
       "    <tr style=\"text-align: right;\">\n",
       "      <th></th>\n",
       "      <th>Unnamed: 0</th>\n",
       "      <th>channel</th>\n",
       "      <th>time</th>\n",
       "      <th>EEG</th>\n",
       "      <th>condition</th>\n",
       "      <th>remark</th>\n",
       "      <th>tag</th>\n",
       "      <th>subject</th>\n",
       "    </tr>\n",
       "  </thead>\n",
       "  <tbody>\n",
       "    <tr>\n",
       "      <th>0</th>\n",
       "      <td>0</td>\n",
       "      <td>PZ</td>\n",
       "      <td>0.0</td>\n",
       "      <td>0.013416</td>\n",
       "      <td>19</td>\n",
       "      <td>real</td>\n",
       "      <td>wn</td>\n",
       "      <td>shinanlin</td>\n",
       "    </tr>\n",
       "    <tr>\n",
       "      <th>1</th>\n",
       "      <td>1</td>\n",
       "      <td>PO5</td>\n",
       "      <td>0.0</td>\n",
       "      <td>-0.002559</td>\n",
       "      <td>19</td>\n",
       "      <td>real</td>\n",
       "      <td>wn</td>\n",
       "      <td>shinanlin</td>\n",
       "    </tr>\n",
       "    <tr>\n",
       "      <th>2</th>\n",
       "      <td>2</td>\n",
       "      <td>POZ</td>\n",
       "      <td>0.0</td>\n",
       "      <td>-0.004506</td>\n",
       "      <td>19</td>\n",
       "      <td>real</td>\n",
       "      <td>wn</td>\n",
       "      <td>shinanlin</td>\n",
       "    </tr>\n",
       "    <tr>\n",
       "      <th>3</th>\n",
       "      <td>3</td>\n",
       "      <td>PO4</td>\n",
       "      <td>0.0</td>\n",
       "      <td>-0.000006</td>\n",
       "      <td>19</td>\n",
       "      <td>real</td>\n",
       "      <td>wn</td>\n",
       "      <td>shinanlin</td>\n",
       "    </tr>\n",
       "    <tr>\n",
       "      <th>4</th>\n",
       "      <td>4</td>\n",
       "      <td>PO6</td>\n",
       "      <td>0.0</td>\n",
       "      <td>-0.005670</td>\n",
       "      <td>19</td>\n",
       "      <td>real</td>\n",
       "      <td>wn</td>\n",
       "      <td>shinanlin</td>\n",
       "    </tr>\n",
       "  </tbody>\n",
       "</table>\n",
       "</div>"
      ],
      "text/plain": [
       "   Unnamed: 0 channel  time       EEG  condition remark tag    subject\n",
       "0           0      PZ   0.0  0.013416         19   real  wn  shinanlin\n",
       "1           1     PO5   0.0 -0.002559         19   real  wn  shinanlin\n",
       "2           2     POZ   0.0 -0.004506         19   real  wn  shinanlin\n",
       "3           3     PO4   0.0 -0.000006         19   real  wn  shinanlin\n",
       "4           4     PO6   0.0 -0.005670         19   real  wn  shinanlin"
      ]
     },
     "execution_count": 23,
     "metadata": {},
     "output_type": "execute_result"
    }
   ],
   "source": [
    "EEGs = []\n",
    "add = 'results/offline'\n",
    "subs = os.listdir(add)\n",
    "\n",
    "for sub in subs:\n",
    "    subFolder = add+os.sep+sub \n",
    "    f = pd.read_csv(subFolder+os.sep+'EEG.csv')\n",
    "    EEGs.append(f)\n",
    "\n",
    "EEGs = pd.concat(EEGs,ignore_index=True)\n",
    "EEGs.head()"
   ]
  },
  {
   "cell_type": "code",
   "execution_count": 31,
   "metadata": {},
   "outputs": [
    {
     "data": {
      "text/html": [
       "<div>\n",
       "<style scoped>\n",
       "    .dataframe tbody tr th:only-of-type {\n",
       "        vertical-align: middle;\n",
       "    }\n",
       "\n",
       "    .dataframe tbody tr th {\n",
       "        vertical-align: top;\n",
       "    }\n",
       "\n",
       "    .dataframe thead th {\n",
       "        text-align: right;\n",
       "    }\n",
       "</style>\n",
       "<table border=\"1\" class=\"dataframe\">\n",
       "  <thead>\n",
       "    <tr style=\"text-align: right;\">\n",
       "      <th></th>\n",
       "      <th>time</th>\n",
       "      <th>condition</th>\n",
       "      <th>Unnamed: 0</th>\n",
       "      <th>EEG</th>\n",
       "    </tr>\n",
       "  </thead>\n",
       "  <tbody>\n",
       "    <tr>\n",
       "      <th>0</th>\n",
       "      <td>0.0</td>\n",
       "      <td>1</td>\n",
       "      <td>199923.0</td>\n",
       "      <td>-0.002107</td>\n",
       "    </tr>\n",
       "    <tr>\n",
       "      <th>1</th>\n",
       "      <td>0.0</td>\n",
       "      <td>2</td>\n",
       "      <td>223443.0</td>\n",
       "      <td>-0.002115</td>\n",
       "    </tr>\n",
       "    <tr>\n",
       "      <th>2</th>\n",
       "      <td>0.0</td>\n",
       "      <td>3</td>\n",
       "      <td>220083.0</td>\n",
       "      <td>-0.002115</td>\n",
       "    </tr>\n",
       "    <tr>\n",
       "      <th>3</th>\n",
       "      <td>0.0</td>\n",
       "      <td>4</td>\n",
       "      <td>183123.0</td>\n",
       "      <td>-0.002061</td>\n",
       "    </tr>\n",
       "    <tr>\n",
       "      <th>4</th>\n",
       "      <td>0.0</td>\n",
       "      <td>5</td>\n",
       "      <td>203283.0</td>\n",
       "      <td>-0.002092</td>\n",
       "    </tr>\n",
       "  </tbody>\n",
       "</table>\n",
       "</div>"
      ],
      "text/plain": [
       "   time  condition  Unnamed: 0       EEG\n",
       "0   0.0          1    199923.0 -0.002107\n",
       "1   0.0          2    223443.0 -0.002115\n",
       "2   0.0          3    220083.0 -0.002115\n",
       "3   0.0          4    183123.0 -0.002061\n",
       "4   0.0          5    203283.0 -0.002092"
      ]
     },
     "execution_count": 31,
     "metadata": {},
     "output_type": "execute_result"
    }
   ],
   "source": [
    "evoked = EEGs.groupby(by=['time', 'condition'],as_index=False).mean()\n",
    "evoked.head()"
   ]
  },
  {
   "cell_type": "code",
   "execution_count": 40,
   "metadata": {},
   "outputs": [
    {
     "data": {
      "text/plain": [
       "<AxesSubplot:xlabel='time', ylabel='EEG'>"
      ]
     },
     "execution_count": 40,
     "metadata": {},
     "output_type": "execute_result"
    },
    {
     "data": {
      "image/png": "[encoded data removed]",
      "text/plain": [
       "<Figure size 432x288 with 1 Axes>"
      ]
     },
     "metadata": {},
     "output_type": "display_data"
    }
   ],
   "source": [
    "sns.lineplot(data=evoked[(evoked.condition==22)],x='time',y='EEG')"
   ]
  },
  {
   "cell_type": "markdown",
   "metadata": {},
   "source": [
    "### stimulus"
   ]
  },
  {
   "cell_type": "code",
   "execution_count": null,
   "metadata": {},
   "outputs": [],
   "source": [
    "sti = []\n",
    "add = 'results/exp-2'\n",
    "subs = os.listdir(add)\n",
    "\n",
    "for sub in subs:\n",
    "    subFolder = add+os.sep+sub \n",
    "    f = pd.read_csv(subFolder+os.sep+'stimulus.csv')\n",
    "    sti.append(f)\n",
    "\n",
    "sti = pd.concat(sti,ignore_index=True).drop_duplicates()\n",
    "sti.head()"
   ]
  },
  {
   "cell_type": "markdown",
   "metadata": {},
   "source": [
    "### performance"
   ]
  }
 ],
 "metadata": {
  "interpreter": {
   "hash": "738b996afe2da5960d326b652730d0fe79e83941aa5e7e236ea36fecd662bb25"
  },
  "kernelspec": {
   "display_name": "Python 3.8.5 ('base')",
   "language": "python",
   "name": "python3"
  },
  "language_info": {
   "codemirror_mode": {
    "name": "ipython",
    "version": 3
   },
   "file_extension": ".py",
   "mimetype": "text/x-python",
   "name": "python",
   "nbconvert_exporter": "python",
   "pygments_lexer": "ipython3",
   "version": "3.8.5"
  },
  "orig_nbformat": 4
 },
 "nbformat": 4,
 "nbformat_minor": 2
}
