{
 "cells": [
  {
   "cell_type": "code",
   "execution_count": 1,
   "metadata": {},
   "outputs": [],
   "source": [
    "import matplotlib.pyplot as plt\n",
    "import seaborn as sns\n",
    "from mne.decoding import ReceptiveField\n",
    "import pickle\n",
    "import numpy as np\n",
    "import  modin.pandas as pd\n",
    "import os\n",
    "from tqdm import tqdm\n",
    "from NRC import NRC,recordModule\n",
    "from matplotlib.pyplot import MultipleLocator\n",
    "from matplotlib.gridspec import GridSpec\n",
    "from utils import returnSpec\n",
    "from distributed import Client\n",
    "client = Client()"
   ]
  },
  {
   "cell_type": "markdown",
   "metadata": {},
   "source": [
    "## 数据导入\n",
    "可以选择导入 *exp* 文件夹中的‘EEG’，’TRF‘，或者’stimulus'文件。文件都是按照pickle格式存储。因为将所有的数据都汇总到一起，所以数据的读写时间会比较长。"
   ]
  },
  {
   "cell_type": "markdown",
   "metadata": {},
   "source": [
    "### TRFs"
   ]
  },
  {
   "cell_type": "code",
   "execution_count": 3,
   "metadata": {},
   "outputs": [
    {
     "data": {
      "text/html": [
       "<div>\n",
       "<style scoped>\n",
       "    .dataframe tbody tr th:only-of-type {\n",
       "        vertical-align: middle;\n",
       "    }\n",
       "\n",
       "    .dataframe tbody tr th {\n",
       "        vertical-align: top;\n",
       "    }\n",
       "\n",
       "    .dataframe thead th {\n",
       "        text-align: right;\n",
       "    }\n",
       "</style>\n",
       "<table border=\"1\" class=\"dataframe\">\n",
       "  <thead>\n",
       "    <tr style=\"text-align: right;\">\n",
       "      <th></th>\n",
       "      <th>Unnamed: 0</th>\n",
       "      <th>channel</th>\n",
       "      <th>lags</th>\n",
       "      <th>trf</th>\n",
       "      <th>condition</th>\n",
       "      <th>feauture</th>\n",
       "      <th>subject</th>\n",
       "      <th>type</th>\n",
       "      <th>tag</th>\n",
       "    </tr>\n",
       "  </thead>\n",
       "  <tbody>\n",
       "    <tr>\n",
       "      <th>0</th>\n",
       "      <td>0</td>\n",
       "      <td>PZ</td>\n",
       "      <td>-0.2</td>\n",
       "      <td>0.791411</td>\n",
       "      <td>19</td>\n",
       "      <td>0</td>\n",
       "      <td>shinanlin</td>\n",
       "      <td>locked</td>\n",
       "      <td>wn</td>\n",
       "    </tr>\n",
       "    <tr>\n",
       "      <th>1</th>\n",
       "      <td>1</td>\n",
       "      <td>PO5</td>\n",
       "      <td>-0.2</td>\n",
       "      <td>0.423860</td>\n",
       "      <td>19</td>\n",
       "      <td>0</td>\n",
       "      <td>shinanlin</td>\n",
       "      <td>locked</td>\n",
       "      <td>wn</td>\n",
       "    </tr>\n",
       "    <tr>\n",
       "      <th>2</th>\n",
       "      <td>2</td>\n",
       "      <td>POZ</td>\n",
       "      <td>-0.2</td>\n",
       "      <td>0.790817</td>\n",
       "      <td>19</td>\n",
       "      <td>0</td>\n",
       "      <td>shinanlin</td>\n",
       "      <td>locked</td>\n",
       "      <td>wn</td>\n",
       "    </tr>\n",
       "    <tr>\n",
       "      <th>3</th>\n",
       "      <td>3</td>\n",
       "      <td>PO4</td>\n",
       "      <td>-0.2</td>\n",
       "      <td>0.858917</td>\n",
       "      <td>19</td>\n",
       "      <td>0</td>\n",
       "      <td>shinanlin</td>\n",
       "      <td>locked</td>\n",
       "      <td>wn</td>\n",
       "    </tr>\n",
       "    <tr>\n",
       "      <th>4</th>\n",
       "      <td>4</td>\n",
       "      <td>PO6</td>\n",
       "      <td>-0.2</td>\n",
       "      <td>0.762472</td>\n",
       "      <td>19</td>\n",
       "      <td>0</td>\n",
       "      <td>shinanlin</td>\n",
       "      <td>locked</td>\n",
       "      <td>wn</td>\n",
       "    </tr>\n",
       "  </tbody>\n",
       "</table>\n",
       "</div>"
      ],
      "text/plain": [
       "   Unnamed: 0 channel  lags       trf  condition  feauture    subject    type  \\\n",
       "0           0      PZ  -0.2  0.791411         19         0  shinanlin  locked   \n",
       "1           1     PO5  -0.2  0.423860         19         0  shinanlin  locked   \n",
       "2           2     POZ  -0.2  0.790817         19         0  shinanlin  locked   \n",
       "3           3     PO4  -0.2  0.858917         19         0  shinanlin  locked   \n",
       "4           4     PO6  -0.2  0.762472         19         0  shinanlin  locked   \n",
       "\n",
       "  tag  \n",
       "0  wn  \n",
       "1  wn  \n",
       "2  wn  \n",
       "3  wn  \n",
       "4  wn  "
      ]
     },
     "execution_count": 3,
     "metadata": {},
     "output_type": "execute_result"
    }
   ],
   "source": [
    "TRFs = []\n",
    "add = 'results/offline'\n",
    "subs = os.listdir(add)\n",
    "\n",
    "for sub in subs:\n",
    "    subFolder = add+os.sep+sub \n",
    "    f = pd.read_csv(subFolder+os.sep+'TRF.csv')\n",
    "    TRFs.append(f)\n",
    "\n",
    "TRFs = pd.concat(TRFs,ignore_index=True)\n",
    "TRFs.head()"
   ]
  },
  {
   "cell_type": "markdown",
   "metadata": {},
   "source": [
    "TRF的frame中\n",
    "1. channel 代表通道标签\n",
    "2. lags代表延迟的时间轴\n",
    "3. trf代表TRF的幅度\n",
    "4. condition是trigger标记，1-20是whitenoise;20-40是m-seq；40-60是ssvep\n",
    "5. type代表TRF有没有被正则化：whitened代表正则化，unwhitened是纯互相关\n",
    "6. tag是刺激类型：白噪声，ssvep和mseq"
   ]
  },
  {
   "cell_type": "code",
   "execution_count": null,
   "metadata": {},
   "outputs": [],
   "source": []
  },
  {
   "cell_type": "markdown",
   "metadata": {},
   "source": [
    "### EEGs"
   ]
  },
  {
   "cell_type": "code",
   "execution_count": null,
   "metadata": {},
   "outputs": [],
   "source": [
    "EEGs = []\n",
    "add = 'results/exp-2'\n",
    "subs = os.listdir(add)\n",
    "\n",
    "for sub in subs:\n",
    "    subFolder = add+os.sep+sub \n",
    "    f = pd.read_csv(subFolder+os.sep+'EEG.csv')\n",
    "    EEGs.append(f)\n",
    "\n",
    "EEGs = pd.concat(EEGs,ignore_index=True)\n",
    "# TRFs = TRFs.loc[TRFs.subject!='diode']\n",
    "EEGs.head()"
   ]
  },
  {
   "cell_type": "markdown",
   "metadata": {},
   "source": [
    "### stimulus"
   ]
  },
  {
   "cell_type": "code",
   "execution_count": null,
   "metadata": {},
   "outputs": [],
   "source": [
    "sti = []\n",
    "add = 'results/exp-2'\n",
    "subs = os.listdir(add)\n",
    "\n",
    "for sub in subs:\n",
    "    subFolder = add+os.sep+sub \n",
    "    f = pd.read_csv(subFolder+os.sep+'stimulus.csv')\n",
    "    sti.append(f)\n",
    "\n",
    "sti = pd.concat(sti,ignore_index=True).drop_duplicates()\n",
    "# TRFs = TRFs.loc[TRFs.subject!='diode']\n",
    "sti.head()"
   ]
  },
  {
   "cell_type": "markdown",
   "metadata": {},
   "source": [
    "### performance"
   ]
  },
  {
   "cell_type": "code",
   "execution_count": 2,
   "metadata": {},
   "outputs": [
    {
     "ename": "FileNotFoundError",
     "evalue": "[Errno 2] No such file or directory: 'results/exp-2'",
     "output_type": "error",
     "traceback": [
      "\u001b[0;31m---------------------------------------------------------------------------\u001b[0m",
      "\u001b[0;31mFileNotFoundError\u001b[0m                         Traceback (most recent call last)",
      "\u001b[0;32m/var/folders/z8/m0rtcw1d0g37chf76qrvr9pw0000gn/T/ipykernel_51238/85640746.py\u001b[0m in \u001b[0;36m<module>\u001b[0;34m\u001b[0m\n\u001b[1;32m      1\u001b[0m \u001b[0mscores\u001b[0m \u001b[0;34m=\u001b[0m \u001b[0;34m[\u001b[0m\u001b[0;34m]\u001b[0m\u001b[0;34m\u001b[0m\u001b[0;34m\u001b[0m\u001b[0m\n\u001b[1;32m      2\u001b[0m \u001b[0madd\u001b[0m \u001b[0;34m=\u001b[0m \u001b[0;34m'results/exp-2'\u001b[0m\u001b[0;34m\u001b[0m\u001b[0;34m\u001b[0m\u001b[0m\n\u001b[0;32m----> 3\u001b[0;31m \u001b[0msubs\u001b[0m \u001b[0;34m=\u001b[0m \u001b[0mos\u001b[0m\u001b[0;34m.\u001b[0m\u001b[0mlistdir\u001b[0m\u001b[0;34m(\u001b[0m\u001b[0madd\u001b[0m\u001b[0;34m)\u001b[0m\u001b[0;34m\u001b[0m\u001b[0;34m\u001b[0m\u001b[0m\n\u001b[0m\u001b[1;32m      4\u001b[0m \u001b[0;34m\u001b[0m\u001b[0m\n\u001b[1;32m      5\u001b[0m \u001b[0;32mfor\u001b[0m \u001b[0msub\u001b[0m \u001b[0;32min\u001b[0m \u001b[0msubs\u001b[0m\u001b[0;34m:\u001b[0m\u001b[0;34m\u001b[0m\u001b[0;34m\u001b[0m\u001b[0m\n",
      "\u001b[0;31mFileNotFoundError\u001b[0m: [Errno 2] No such file or directory: 'results/exp-2'"
     ]
    }
   ],
   "source": [
    "scores = []\n",
    "add = 'results/exp-2'\n",
    "subs = os.listdir(add)\n",
    "\n",
    "for sub in subs:\n",
    "    subFolder = add+os.sep+sub \n",
    "    f = pd.read_csv(subFolder+os.sep+'classification.csv')\n",
    "    scores.append(f)\n",
    "\n",
    "scores = pd.concat(scores,ignore_index=True).drop_duplicates()\n",
    "scores = scores.loc[scores.subject!='diode']\n",
    "scores.head()"
   ]
  },
  {
   "cell_type": "markdown",
   "metadata": {},
   "source": [
    "### Spectral"
   ]
  },
  {
   "cell_type": "code",
   "execution_count": null,
   "metadata": {},
   "outputs": [],
   "source": [
    "spectral = []\n",
    "add = 'results/exp-2'\n",
    "subs = os.listdir(add)\n",
    "\n",
    "for sub in subs:\n",
    "    subFolder = add+os.sep+sub \n",
    "    f = pd.read_csv(subFolder+os.sep+'spectral.csv')\n",
    "    spectral.append(f)\n",
    "\n",
    "spectral = pd.concat(spectral,ignore_index=True).drop_duplicates()\n",
    "spectral = spectral.loc[spectral.subject!='diode']\n",
    "spectral.head()"
   ]
  },
  {
   "cell_type": "markdown",
   "metadata": {},
   "source": [
    "# *Image 1* : TRF for different stimulus under subject average level"
   ]
  },
  {
   "cell_type": "markdown",
   "metadata": {},
   "source": [
    "所有的分析，都可以用groupby这个函数，把一部分数据抽取出来。具体用法查看pandas官网"
   ]
  },
  {
   "cell_type": "code",
   "execution_count": null,
   "metadata": {},
   "outputs": [],
   "source": [
    "ave = TRFs[(TRFs.subject!='diode')][['trf','lags','tag']].groupby(by=['tag', 'lags'],as_index=False).mean()\n",
    "ave.head()"
   ]
  },
  {
   "cell_type": "code",
   "execution_count": null,
   "metadata": {},
   "outputs": [],
   "source": [
    "aveTRF = ave[(ave.tag != 'ssvep') & (ave.lags <= 1)].groupby(['lags'],as_index=False).mean()\n",
    "aveTRF = aveTRF['trf'].to_numpy()\n",
    "f,t,Sxx = returnSpec(aveTRF)"
   ]
  },
  {
   "cell_type": "code",
   "execution_count": null,
   "metadata": {},
   "outputs": [],
   "source": [
    "plt.rcParams['text.usetex'] = True\n",
    "fig,(ax2,ax1) = plt.subplots(nrows=2,ncols=1,figsize=(10,6),gridspec_kw={'height_ratios': [2, 3]})\n",
    "\n",
    "sns.set_theme(style='white')\n",
    "\n",
    "plt.subplots_adjust(hspace=0.3)\n",
    "\n",
    "sns.lineplot(data=ave[(ave.tag != 'ssvep') & (ave.lags <= 1)], x='lags',\n",
    "             y='trf', hue='tag', palette=['#00239CFF', '#E10600FF'], linewidth=2, style='tag', ax=ax1)\n",
    "\n",
    "# ax.set_ylim(-0.4,0.4)\n",
    "\n",
    "ax1.vlines(x=0,ymin=-.4,ymax=.4,linestyles='dashed')\n",
    "ax1.text(x=0.01,y=-.3,s='onset',fontsize=15)\n",
    "ax1.set_xlabel(r'lag(s)')\n",
    "ax1.set_ylabel(r'amplitude(a.u)')\n",
    "\n",
    "ax1.legend(loc='upper left')\n",
    "\n",
    "ax2.pcolormesh(t, f, Sxx, shading='gouraud', cmap='vlag',alpha=0.7)\n",
    "ax2.set_ylim(0,50)\n",
    "ax2.set_xlabel(r'lag(s)')\n",
    "ax2.set_ylabel(r'frequency(Hz)')\n",
    "\n",
    "ax2.set_xticklabels('')\n",
    "ax2.set_xlabel('')\n",
    "\n",
    "sns.despine()\n",
    "\n",
    "# plt.savefig('./results/pics/AveTRF.png', dpi=200, format='png')"
   ]
  },
  {
   "cell_type": "markdown",
   "metadata": {},
   "source": [
    "# *Image 2* : TRF for each person"
   ]
  },
  {
   "cell_type": "code",
   "execution_count": null,
   "metadata": {},
   "outputs": [],
   "source": [
    "subTRFs = TRFs.groupby(by=['subject','tag','lags'],as_index=False).mean()\n",
    "subTRFs.head()"
   ]
  },
  {
   "cell_type": "markdown",
   "metadata": {},
   "source": [
    "在seaborn 中输入“hue”，就可以按照标签分类做图"
   ]
  },
  {
   "cell_type": "code",
   "execution_count": null,
   "metadata": {},
   "outputs": [],
   "source": [
    "plt.rcParams['text.usetex'] = True\n",
    "\n",
    "subjects = TRFs.subject.unique()\n",
    "\n",
    "fig, axs = plt.subplots(ncols=2, nrows=len(subjects), figsize=(10, 10))\n",
    "\n",
    "sns.set_theme(style='white')\n",
    "\n",
    "for subINX,sub in enumerate(subjects):\n",
    "    ax1,ax2 = axs[subINX]\n",
    "\n",
    "    s = subTRFs[((subTRFs.tag!='ssvep'))&(subTRFs.subject==sub)&(subTRFs.lags<0.5)]\n",
    "    sns.lineplot(data=s,x='lags',y='trf',hue='tag',palette=['#00239CFF', '#E10600FF'],linewidth=2.5,ax=ax1,legend=False)\n",
    "    ax1.set_title('%s'%sub)\n",
    "\n",
    "    ax1.vlines(x=0, ymin=-.5, ymax=.5, linestyles='dashed')\n",
    "    ax1.set_xlabel(r'lag(s)')\n",
    "    ax1.set_ylabel(r'amplitude(a.u)')\n",
    "\n",
    "    s_ = s[['lags', 'trf', 'tag']].groupby(['lags'], as_index=False).mean()['trf'].to_numpy()\n",
    "    f,t,Sxx = returnSpec(s_)\n",
    "    ax2.pcolormesh(t-0.2, f, Sxx, shading='gouraud', cmap='vlag', alpha=0.7)\n",
    "\n",
    "    ax2.set_ylim(0, 50)\n",
    "    ax2.set_xlabel(r'lag(s)')\n",
    "    ax2.set_ylabel(r'frequency(Hz)')\n",
    "\n",
    "plt.tight_layout()\n",
    "sns.despine()\n",
    "# plt.savefig('./results/pics/subjects.png', dpi=200, format='png')"
   ]
  },
  {
   "cell_type": "markdown",
   "metadata": {},
   "source": [
    "# *Image 3* : Spatial Propogation"
   ]
  },
  {
   "cell_type": "code",
   "execution_count": null,
   "metadata": {},
   "outputs": [],
   "source": [
    "TRFs.channel.unique()"
   ]
  },
  {
   "cell_type": "code",
   "execution_count": null,
   "metadata": {},
   "outputs": [],
   "source": [
    "TRFs.subject.unique()"
   ]
  },
  {
   "cell_type": "code",
   "execution_count": null,
   "metadata": {},
   "outputs": [],
   "source": [
    "chnNames = ['OZ','O1','PO3','PO7','P7','PO4','PO8','PO4']\n",
    "# chnNames = ['CB1','OZ','POZ','PZ','CPZ']\n",
    "# chnNames = ['OZ', 'O1', 'PO7', 'P7', 'TP7']\n",
    "# chnNames = ['OZ', 'O2', 'PO8', 'P8', 'TP8']\n",
    "# chnNames = ['PO7', 'PO3', 'POZ', 'PO4', 'PO8']\n",
    "\n",
    "# chnNames = ['P7', 'P5', 'P3', 'P1', 'PZ', 'P2', 'P4', 'P6', 'P8']\n",
    "\n",
    "travel = TRFs[(TRFs.channel.isin(chnNames))].groupby(by=['channel','tag','lags','subject'],as_index=False).mean()\n",
    "travelAve = TRFs[(TRFs.channel.isin(chnNames))&(TRFs.subject!='diode')].groupby(by=['channel','tag','lags'],as_index=False).mean()\n",
    "travelAve.head()"
   ]
  },
  {
   "cell_type": "markdown",
   "metadata": {},
   "source": [
    "## white noise"
   ]
  },
  {
   "cell_type": "code",
   "execution_count": null,
   "metadata": {},
   "outputs": [],
   "source": [
    "plt.rcParams['text.usetex'] = True\n",
    "f, (ax1,ax2) = plt.subplots(figsize=(10, 8), ncols=1, nrows=2)\n",
    "\n",
    "sns.set_theme(style='white')\n",
    "plt.subplots_adjust(hspace=0.3)\n",
    "\n",
    "sns.lineplot(data=travelAve[(travelAve.tag == 'ssvep') & (travelAve.lags < 0.5) & (\n",
    "    travelAve.lags > -0.1)], x='lags', y='trf', palette='husl', linewidth=2.5, hue='channel', ax=ax1, hue_order=chnNames)\n",
    "\n",
    "sns.lineplot(data=travel[(travel.tag == 'ssvep') & (travel.subject == 'shinanlin') & (travel.lags < 0.5) & (\n",
    "    travel.lags > -0.1)], x='lags', y='trf', palette='husl', linewidth=2.5, hue='channel', ax=ax2, hue_order=chnNames,legend=False)\n",
    "\n",
    "# ax1.vlines(x=0, ymin=-1, ymax=1, linestyles='dashed')\n",
    "\n",
    "# ax.text(x=0.01, y=-.3, s='onset', fontsize=15)\n",
    "\n",
    "ax1.set_xlabel(r'lag(s)')\n",
    "ax1.set_ylabel(r'amplitude(a.u)')\n",
    "ax1.set_title('Phase propogation on average')\n",
    "ax2.set_title('Phase propogation on a representative subject')\n",
    "\n",
    "ax2.set_xlabel(r'lag(s)')\n",
    "ax2.set_ylabel(r'amplitude(a.u)')\n",
    "\n",
    "sns.despine()\n",
    "# plt.savefig('./results/pics/propogate_PO7-PO8.svg', dpi=200, format='svg')"
   ]
  },
  {
   "cell_type": "markdown",
   "metadata": {},
   "source": [
    "## mseq"
   ]
  },
  {
   "cell_type": "code",
   "execution_count": null,
   "metadata": {},
   "outputs": [],
   "source": [
    "plt.rcParams['text.usetex'] = True\n",
    "f, (ax1,ax2) = plt.subplots(figsize=(10, 8), ncols=1, nrows=2)\n",
    "\n",
    "sns.set_theme(style='white')\n",
    "plt.subplots_adjust(hspace=0.3)\n",
    "\n",
    "sns.lineplot(data=travelAve[(travelAve.tag == 'mseq') & (travelAve.lags < 0.5) & (\n",
    "    travelAve.lags > -0.1)], x='lags', y='trf', palette='husl', linewidth=2.5, hue='channel', ax=ax1, hue_order=chnNames)\n",
    "\n",
    "sns.lineplot(data=travel[(travel.tag == 'mseq') & (travel.subject == 'shinanlin') & (travel.lags < 0.5) & (\n",
    "    travel.lags > -0.1)], x='lags', y='trf', palette='husl', linewidth=2.5, hue='channel', ax=ax2, hue_order=chnNames,legend=False)\n",
    "\n",
    "\n",
    "# ax.text(x=0.01, y=-.3, s='onset', fontsize=15)\n",
    "\n",
    "ax1.set_xlabel(r'lag(s)')\n",
    "ax1.set_ylabel(r'amplitude(a.u)')\n",
    "ax1.set_title('Phase propogation on average')\n",
    "ax2.set_title('Phase propogation on a representative subject')\n",
    "\n",
    "ax2.set_xlabel(r'lag(s)')\n",
    "ax2.set_ylabel(r'amplitude(a.u)')\n",
    "\n",
    "sns.despine()\n",
    "# plt.savefig('./results/pics/propogate_PO7-PO8.svg', dpi=200, format='svg')"
   ]
  },
  {
   "cell_type": "markdown",
   "metadata": {},
   "source": [
    "## ssvep"
   ]
  },
  {
   "cell_type": "code",
   "execution_count": null,
   "metadata": {},
   "outputs": [],
   "source": [
    "plt.rcParams['text.usetex'] = True\n",
    "f, (ax1, ax2) = plt.subplots(figsize=(14, 10), ncols=1, nrows=2)\n",
    "\n",
    "sns.set_theme(style='white')\n",
    "\n",
    "sns.lineplot(data=travel[(travel.tag == 'ssvep') & (travel.subject != 'diode') & (travel.lags < 0.5) & (\n",
    "    travel.lags > -0.1)], x='lags', y='trf', palette='husl', linewidth=2, hue='channel', ax=ax1)\n",
    "\n",
    "\n",
    "sns.lineplot(data=travel[(travel.tag == 'mseq') & (travel.subject == 'guoxiaolei') & (travel.lags < 0.5) & (travel.lags > -0.1)], x='lags', y='trf', palette='husl', linewidth=2, hue='channel', ax=ax2)\n",
    "\n",
    "ax.vlines(x=0, ymin=-1, ymax=1, linestyles='dashed')\n",
    "\n",
    "# ax.text(x=0.01, y=-.3, s='onset', fontsize=15)\n",
    "ax.set_xlabel(r'lag(s)')\n",
    "ax.set_ylabel(r'amplitude(a.u)')\n",
    "ax1.set_title('Phase propogation on average')\n",
    "ax2.set_title('Phase propogation on a representative subject')\n",
    "sns.despine()\n",
    "# plt.savefig('./results/pics/propogate_mseq.svg', dpi=200, format='svg')"
   ]
  },
  {
   "cell_type": "markdown",
   "metadata": {},
   "source": [
    "# *Image 4*: mTRF"
   ]
  },
  {
   "cell_type": "code",
   "execution_count": null,
   "metadata": {},
   "outputs": [],
   "source": [
    "chnNames = ['OZ','O1','PO3','PO7','P7','PO4','PO8','PO4']\n",
    "\n",
    "ssvepTRFs = TRFs[(TRFs.channel.isin(chnNames)) & (TRFs.subject != 'diosde') & (TRFs.tag == 'ssvep')].groupby(by=['condition', 'subject', 'lags'], as_index=False).mean()\n",
    "\n",
    "\n",
    "allTRFs = TRFs[(TRFs.channel.isin(chnNames)) & (TRFs.subject != 'diode')].groupby(by=['tag', 'subject', 'lags'], as_index=False).mean()\n",
    "allTRFs.head()"
   ]
  },
  {
   "cell_type": "code",
   "execution_count": null,
   "metadata": {},
   "outputs": [],
   "source": [
    "ssvepAve = ssvepTRFs.pivot_table(index='condition',columns='lags',values='trf')\n",
    "ssvepAve.head()"
   ]
  },
  {
   "cell_type": "code",
   "execution_count": null,
   "metadata": {},
   "outputs": [],
   "source": [
    "ave = TRFs[((TRFs.channel.isin(chnNames)))][['trf','channel', 'lags', 'tag','subject']].groupby(by=['tag', 'lags', 'subject'], as_index=False).mean()\n",
    "ave.head()"
   ]
  },
  {
   "cell_type": "code",
   "execution_count": null,
   "metadata": {},
   "outputs": [],
   "source": [
    "plt.rcParams['text.usetex'] = True\n",
    "\n",
    "dpi = 150\n",
    "fig = plt.figure(figsize=(1000/dpi, 1000/dpi),dpi=dpi)\n",
    "\n",
    "\n",
    "spec = fig.add_gridspec(4, 4)\n",
    "\n",
    "ax1 = fig.add_subplot(spec[0, :])\n",
    "ax2 = fig.add_subplot(spec[1:, :])\n",
    "\n",
    "\n",
    "# sns.lineplot(data=ssvepTRFs[ssvepTRFs.subject==sub],x='lags',y='trf',ax=ax1,linewidth=3)\n",
    "sns.lineplot(data=allTRFs, x='lags', y='trf',\n",
    "             ax=ax1, linewidth=2, hue='tag', style='tag', palette=['#DA291CFF','#56A8CBFF', '#53A567FF'], style_order=['ssvep', 'mseq', 'wn'],hue_order=['ssvep', 'mseq', 'wn'])\n",
    "\n",
    "\n",
    "t = ssvepAve.columns.to_numpy()\n",
    "f = ssvepAve.index.to_numpy()\n",
    "Z = ssvepAve.to_numpy()\n",
    "\n",
    "# ax2.pcolormesh(t,f[::-1],Z,shading='gouraud', cmap='vlag',vmin=Z.min(), vmax=Z.max(),snap=True)\n",
    "\n",
    "ax2.imshow(ssvepAve.to_numpy(), cmap='vlag',aspect='auto', interpolation='antialiased')\n",
    "ax2.yaxis.set_major_locator(MultipleLocator(2))\n",
    "ax2.yaxis.set_ticklabels([r\"%.1f\" % i for i in np.arange(7, 19, 1)])\n",
    "\n",
    "\n",
    "ax1.set_xlabel(r'lags(s)')\n",
    "ax2.set_xlabel(r'lags(s)')\n",
    "\n",
    "ax2.set_ylabel(r'Frequency(Hz)')\n",
    "ax1.set_ylabel(r'Amplitude(a.u)')\n",
    "\n",
    "ax1.set_title('subject average')\n",
    "ax1.legend(loc='upper left')\n",
    "plt.tight_layout()\n",
    "\n",
    "plt.savefig('./results/pics/aveSSVEP_TRFs.png', dpi=fig.dpi, format='png')"
   ]
  },
  {
   "cell_type": "code",
   "execution_count": null,
   "metadata": {},
   "outputs": [],
   "source": [
    "sub = 'huangfeixiang'\n",
    "ssvepSub = ssvepTRFs[ssvepTRFs.subject==sub].pivot_table(index='condition',columns='lags',values='trf')\n",
    "ssvepSub.head()"
   ]
  },
  {
   "cell_type": "code",
   "execution_count": null,
   "metadata": {},
   "outputs": [],
   "source": [
    "plt.rcParams['text.usetex'] = True\n",
    "dpi = 150\n",
    "fig = plt.figure(figsize=(1000/dpi, 1000/dpi),dpi=dpi)\n",
    "\n",
    "sns.set_theme(style='white')\n",
    "\n",
    "spec = fig.add_gridspec(4, 4)\n",
    "\n",
    "ax1 = fig.add_subplot(spec[0, :])\n",
    "ax2 = fig.add_subplot(spec[1:, :])\n",
    "\n",
    "# sns.lineplot(data=ssvepTRFs[ssvepTRFs.subject==sub],x='lags',y='trf',ax=ax1,linewidth=3)\n",
    "sns.lineplot(data=ave[(ave.subject == sub)], x='lags', y='trf',\n",
    "             ax=ax1, linewidth=2, hue='tag', style='tag', palette=['#DA291CFF','#56A8CBFF', '#53A567FF'], style_order=['ssvep', 'mseq', 'wn'],hue_order=['ssvep', 'mseq', 'wn'])\n",
    "# sns.lineplot(data=ave[(ave.subject==sub)&(ave.tag=='ssvep')],x='lags',y='trf',ax=ax1,linewidth=2.6,hue='tag',style='tag',palette=['#DA291CFF'])\n",
    "\n",
    "ax2.imshow(ssvepSub.to_numpy(),cmap='vlag',aspect='auto',interpolation='antialiased')\n",
    "\n",
    "t = ssvepSub.columns.to_numpy()\n",
    "f = ssvepSub.index.to_numpy()\n",
    "Z = ssvepSub.to_numpy()\n",
    "# ax2.pcolormesh(t,f[::-1],Z,shading='gouraud', cmap='vlag',vmin=Z.min(), vmax=Z.max(),snap=True)\n",
    "\n",
    "ax2.xaxis.set_major_locator(MultipleLocator(48))\n",
    "ax2.xaxis.set_ticklabels([r'%.1f' % i for i in np.arange(-0.4, 1.2, 0.2)])\n",
    "\n",
    "ax2.yaxis.set_major_locator(MultipleLocator(2))\n",
    "ax2.yaxis.set_ticklabels([r\"%.1f\" % i for i in np.arange(7, 19, 1)])\n",
    "\n",
    "ax2.set_xlabel(r'lags(s)')\n",
    "ax2.set_ylabel(r'Frequency(Hz)')\n",
    "ax1.set_ylabel(r'Amplitude(a.u)')\n",
    "ax1.legend(loc='upper left')\n",
    "ax1.set_title('%s'%sub)\n",
    "plt.tight_layout()\n",
    "\n",
    "plt.savefig('./results/pics/ssvepHM_%s.png'%sub, dpi=fig.dpi, format='png')\n",
    "plt.show()"
   ]
  },
  {
   "cell_type": "markdown",
   "metadata": {},
   "source": []
  },
  {
   "cell_type": "markdown",
   "metadata": {},
   "source": [
    "# *Image 5*: forward model"
   ]
  },
  {
   "cell_type": "code",
   "execution_count": null,
   "metadata": {},
   "outputs": [],
   "source": [
    "EEGs.head()"
   ]
  },
  {
   "cell_type": "code",
   "execution_count": null,
   "metadata": {},
   "outputs": [],
   "source": [
    "subName = 'guoxiaolei'\n",
    "sub = EEGs[['channel','time','EEG','condition','remark','subject']][(EEGs.subject==subName)&(EEGs.time<2)]\n",
    "sub.head()"
   ]
  },
  {
   "cell_type": "code",
   "execution_count": null,
   "metadata": {},
   "outputs": [],
   "source": [
    "subSti = sti[sti.time<2]\n",
    "subSti.head()"
   ]
  },
  {
   "cell_type": "code",
   "execution_count": null,
   "metadata": {},
   "outputs": [],
   "source": [
    "fig = plt.figure(figsize=(13, 6))\n",
    "\n",
    "plt.rcParams['text.usetex'] = True\n",
    "sns.set_theme(style='white')\n",
    "\n",
    "plt.subplots_adjust(wspace=2, hspace=3)\n",
    "\n",
    "row, column = 5, 10\n",
    "con = 3\n",
    "gs = GridSpec(row, column, figure=fig)\n",
    "ax1 = fig.add_subplot(gs[1*row//5:4*row//5, :2*column//5])\n",
    "ax2 = fig.add_subplot(gs[:2*row//5, 2*column//5:])\n",
    "ax3 = fig.add_subplot(gs[2*row//5:5*row//5, 2*column//5:])\n",
    "\n",
    "sns.lineplot(data=TRFs[(TRFs.subject==subName)&(TRFs.tag=='wn')],x='lags',y='trf',ax=ax1,hue='tag',linewidth=2)\n",
    "sns.lineplot(data=subSti[subSti.condition == con], x='time', y='stimulus',\n",
    "             ax=ax2, linewidth=2,)\n",
    "sns.lineplot(data=sub[sub.condition == con], x='time', y='EEG', hue='remark',\n",
    "             ax=ax3, linewidth=2, style='remark')\n",
    "\n",
    "ax1.set_title('kernel')\n",
    "ax1.set_xlabel('time(s)')\n",
    "ax1.set_ylabel('amplitude(a.u)')\n",
    "\n",
    "\n",
    "ax2.set_title('stimulus')\n",
    "ax2.set_xlabel('time(s)')\n",
    "ax2.set_ylabel('amplitude(a.u)')\n",
    "\n",
    "ax3.set_title('response')\n",
    "ax3.set_xlabel('time(s)')\n",
    "ax3.set_ylabel('amplitude(a.u)')\n",
    "\n",
    "fig.suptitle('%s' % subName)\n",
    "\n",
    "plt.savefig('./results/pics/reconstruct-wn.png', dpi=200, format='png')"
   ]
  },
  {
   "cell_type": "code",
   "execution_count": null,
   "metadata": {},
   "outputs": [],
   "source": [
    "plt.rcParams['text.usetex'] = True\n",
    "\n",
    "f, (ax1,ax2,ax3) = plt.subplots(figsize=(14, 10), ncols=1, nrows=3)\n",
    "sns.set_theme(style='white')\n",
    "\n",
    "sns.lineplot(data=sub[sub.condition==1],x='time',y='EEG',hue='remark',ax=ax1)\n",
    "\n",
    "sns.lineplot(data=sub[sub.condition==20],x='time',y='EEG',hue='remark',ax=ax2)\n",
    "\n",
    "sns.lineplot(data=sub[sub.condition==41],x='time',y='EEG',hue='remark',ax=ax3)\n",
    "\n",
    "sns.despine()"
   ]
  },
  {
   "cell_type": "markdown",
   "metadata": {},
   "source": [
    "# *Image 6*: predictive models"
   ]
  },
  {
   "cell_type": "code",
   "execution_count": 3,
   "metadata": {},
   "outputs": [
    {
     "data": {
      "text/html": [
       "<div>\n",
       "<style scoped>\n",
       "    .dataframe tbody tr th:only-of-type {\n",
       "        vertical-align: middle;\n",
       "    }\n",
       "\n",
       "    .dataframe tbody tr th {\n",
       "        vertical-align: top;\n",
       "    }\n",
       "\n",
       "    .dataframe thead th {\n",
       "        text-align: right;\n",
       "    }\n",
       "</style>\n",
       "<table border=\"1\" class=\"dataframe\">\n",
       "  <thead>\n",
       "    <tr style=\"text-align: right;\">\n",
       "      <th></th>\n",
       "      <th>Unnamed: 0</th>\n",
       "      <th>score</th>\n",
       "      <th>winLEN</th>\n",
       "      <th>tag</th>\n",
       "      <th>cv</th>\n",
       "      <th>subject</th>\n",
       "    </tr>\n",
       "  </thead>\n",
       "  <tbody>\n",
       "    <tr>\n",
       "      <th>0</th>\n",
       "      <td>0</td>\n",
       "      <td>0.90</td>\n",
       "      <td>0.2</td>\n",
       "      <td>wn</td>\n",
       "      <td>0</td>\n",
       "      <td>guoxiaolei</td>\n",
       "    </tr>\n",
       "    <tr>\n",
       "      <th>1</th>\n",
       "      <td>1</td>\n",
       "      <td>0.90</td>\n",
       "      <td>0.3</td>\n",
       "      <td>wn</td>\n",
       "      <td>0</td>\n",
       "      <td>guoxiaolei</td>\n",
       "    </tr>\n",
       "    <tr>\n",
       "      <th>2</th>\n",
       "      <td>2</td>\n",
       "      <td>0.95</td>\n",
       "      <td>0.4</td>\n",
       "      <td>wn</td>\n",
       "      <td>0</td>\n",
       "      <td>guoxiaolei</td>\n",
       "    </tr>\n",
       "    <tr>\n",
       "      <th>3</th>\n",
       "      <td>3</td>\n",
       "      <td>0.95</td>\n",
       "      <td>0.5</td>\n",
       "      <td>wn</td>\n",
       "      <td>0</td>\n",
       "      <td>guoxiaolei</td>\n",
       "    </tr>\n",
       "    <tr>\n",
       "      <th>4</th>\n",
       "      <td>4</td>\n",
       "      <td>1.00</td>\n",
       "      <td>0.6</td>\n",
       "      <td>wn</td>\n",
       "      <td>0</td>\n",
       "      <td>guoxiaolei</td>\n",
       "    </tr>\n",
       "  </tbody>\n",
       "</table>\n",
       "</div>"
      ],
      "text/plain": [
       "   Unnamed: 0  score  winLEN tag  cv     subject\n",
       "0           0   0.90     0.2  wn   0  guoxiaolei\n",
       "1           1   0.90     0.3  wn   0  guoxiaolei\n",
       "2           2   0.95     0.4  wn   0  guoxiaolei\n",
       "3           3   0.95     0.5  wn   0  guoxiaolei\n",
       "4           4   1.00     0.6  wn   0  guoxiaolei"
      ]
     },
     "execution_count": 3,
     "metadata": {},
     "output_type": "execute_result"
    }
   ],
   "source": [
    "scores.head()"
   ]
  },
  {
   "cell_type": "code",
   "execution_count": 4,
   "metadata": {},
   "outputs": [
    {
     "data": {
      "text/plain": [
       "array(['guoxiaolei', 'huangfeixiang', 'shinanlin', 'wanghaoyu'],\n",
       "      dtype=object)"
      ]
     },
     "execution_count": 4,
     "metadata": {},
     "output_type": "execute_result"
    }
   ],
   "source": [
    "scores.subject.unique()"
   ]
  },
  {
   "cell_type": "code",
   "execution_count": 5,
   "metadata": {},
   "outputs": [
    {
     "data": {
      "image/png": "[encoded data removed]",
      "text/plain": [
       "<Figure size 432x288 with 1 Axes>"
      ]
     },
     "metadata": {},
     "output_type": "display_data"
    }
   ],
   "source": [
    "sns.set_theme(style='white')\n",
    "sns.lineplot(data=scores[scores.subject == 'shinanlin'],\n",
    "             x='winLEN', y='score', hue='tag')\n",
    "sns.despine()"
   ]
  },
  {
   "cell_type": "markdown",
   "metadata": {},
   "source": [
    "# _Image 7_ :Spectral"
   ]
  },
  {
   "cell_type": "code",
   "execution_count": null,
   "metadata": {},
   "outputs": [],
   "source": [
    "spectral.head()\n",
    "subAveSpec = spectral[['frequency','amplitude','remark','tag','subject']].groupby(by=['frequency','remark','tag','subject'],as_index=False).mean()\n",
    "subAveSpec = subAveSpec[subAveSpec.remark!='resting']\n",
    "subAveSpec.head()"
   ]
  },
  {
   "cell_type": "code",
   "execution_count": null,
   "metadata": {},
   "outputs": [],
   "source": [
    "sub = 'shinanlin'\n",
    "oneSub = subAveSpec[subAveSpec.subject==sub]\n"
   ]
  },
  {
   "cell_type": "code",
   "execution_count": null,
   "metadata": {},
   "outputs": [],
   "source": [
    "plt.rcParams['text.usetex'] = True\n",
    "\n",
    "f, axes = plt.subplots(figsize=(20, 5), ncols=3, nrows=1)\n",
    "\n",
    "sns.set_theme(style='white')\n",
    "plt.subplots_adjust(hspace=0.3)\n",
    "\n",
    "for tag,ax in zip(oneSub.tag.unique(),axes):\n",
    "\n",
    "    sns.lineplot(data=oneSub[(oneSub.tag==tag)&(oneSub.remark!='TR.F')],x='frequency',y='amplitude',hue='remark',ax=ax,linewidth=3)\n",
    "    ax.set_title('STI type:%s'%tag)\n",
    "    ax.set_xlabel('frequency(Hz)')\n",
    "    ax.set_ylabel(r'amplitude(V**2)')\n",
    "\n",
    "# plt.savefig('./results/pics/EEG-STI-spec.png', dpi=200, format='png')"
   ]
  },
  {
   "cell_type": "code",
   "execution_count": null,
   "metadata": {},
   "outputs": [],
   "source": [
    "f, axes = plt.subplots(figsize=(5, 5), ncols=1, nrows=1)\n",
    "\n",
    "sns.set_theme(style='white')\n",
    "plt.subplots_adjust(hspace=0.3)\n",
    "\n",
    "sns.lineplot(data=subAveSpec[(subAveSpec.remark=='TRF')&(subAveSpec.tag=='wn')],x='frequency',y='amplitude',hue='subject')"
   ]
  },
  {
   "cell_type": "code",
   "execution_count": null,
   "metadata": {},
   "outputs": [],
   "source": [
    "specAve = spectral[spectral.subject=='shinanlin'][['frequency','amplitude','remark','tag','channel']].groupby(by=['frequency','amplitude','remark','tag'],as_index=False).mean()\n",
    "specAve.head()"
   ]
  },
  {
   "cell_type": "markdown",
   "metadata": {},
   "source": []
  },
  {
   "cell_type": "markdown",
   "metadata": {},
   "source": [
    "# _Fig 7_ :Group Analysis"
   ]
  },
  {
   "cell_type": "code",
   "execution_count": null,
   "metadata": {},
   "outputs": [],
   "source": [
    "TRFs = []\n",
    "add = 'results/exp-3'\n",
    "subs = os.listdir(add)\n",
    "\n",
    "for sub in subs:\n",
    "    subFolder = add+os.sep+sub \n",
    "    f = pd.read_csv(subFolder+os.sep+'TRF.csv')\n",
    "    TRFs.append(f)\n",
    "\n",
    "TRFs = pd.concat(TRFs,ignore_index=True)\n",
    "TRFs = TRFs[['channel','lags','trf','condition','subject']]\n",
    "TRFs.head()"
   ]
  },
  {
   "cell_type": "code",
   "execution_count": null,
   "metadata": {},
   "outputs": [],
   "source": [
    "subTRFs = TRFs[(TRFs.lags<0.4)&(TRFs.lags>0)].groupby(['lags','subject'],as_index=False).mean()\n",
    "subTRFs.head()"
   ]
  },
  {
   "cell_type": "code",
   "execution_count": null,
   "metadata": {},
   "outputs": [],
   "source": [
    "matrix = subTRFs.pivot_table(index='subject',columns='lags',values='trf')\n",
    "Z = matrix.to_numpy()\n",
    "index = matrix.index.to_numpy()\n",
    "columns = matrix.columns.to_numpy()"
   ]
  },
  {
   "cell_type": "code",
   "execution_count": null,
   "metadata": {},
   "outputs": [],
   "source": [
    "plt.rcParams['text.usetex'] = True\n",
    "\n",
    "fig = plt.figure(figsize=(13, 10))\n",
    "\n",
    "spec = fig.add_gridspec(4, 4)\n",
    "\n",
    "ax1 = fig.add_subplot(spec[0, :])\n",
    "ax2 = fig.add_subplot(spec[1:, :])\n",
    "\n",
    "sns.lineplot(data=subTRFs, x='lags', y='trf',ax=ax1,linewidth=3)\n",
    "plt.pcolormesh(columns, index, Z, cmap='vlag', shading='flat',linewidth=0.1,ax=ax2)\n",
    "\n",
    "ax1.set_xlabel('')\n",
    "ax1.set_ylabel('amplitude(a.u)')\n",
    "ax1.set_title('Average TRFs across 55 subjects')\n",
    "\n",
    "ax2.set_ylabel('subject')\n",
    "ax2.set_xlabel('lags(s)')\n",
    "\n",
    "plt.savefig('./results/pics/subjectTriggering.png', dpi=200, format='png')"
   ]
  },
  {
   "cell_type": "code",
   "execution_count": null,
   "metadata": {},
   "outputs": [],
   "source": [
    "for sub in TRFs.subject.unique():\n",
    "\n",
    "    f,ax = plt.subplots()\n",
    "    subAve = TRFs[TRFs.subject==sub].groupby(['lags']).mean()\n",
    "    sns.lineplot(data=subAve,x='lags',y='trf')\n",
    "    plt.savefig('./results/pics/groups/sub%s.png'%sub, dpi=100, format='png')\n",
    "    plt.close()"
   ]
  },
  {
   "cell_type": "code",
   "execution_count": null,
   "metadata": {},
   "outputs": [],
   "source": [
    "subList = [30,43,48,7,16,20,23,27,39,41,47]\n",
    "fig, axs = plt.subplots(ncols=2, nrows=len(subList), figsize=(10, 20))\n",
    "\n",
    "sns.set_theme(style='white')\n",
    "\n",
    "for subINX, sub in enumerate(subList):\n",
    "    \n",
    "    ax1, ax2 = axs[subINX]\n",
    "    subAve = TRFs[TRFs.subject==sub].groupby(['lags']).mean()\n",
    "    sns.lineplot(data=subAve,x='lags',y='trf',ax=ax1)\n",
    "    ax1.vlines(x=0, ymin=-.5, ymax=.5, linestyles='dashed')\n",
    "    ax1.set_xlabel('')\n",
    "    ax1.set_ylabel('')\n",
    "\n",
    "    s_ = subAve['trf'].to_numpy()\n",
    "    f, t, Sxx = returnSpec(s_)\n",
    "    ax2.pcolormesh(t-0.2, f, Sxx, shading='gouraud', cmap='vlag', alpha=0.7)\n",
    "\n",
    "    ax2.set_ylim(0, 50)\n",
    "    ax2.set_xlabel('')\n",
    "    ax2.set_ylabel('')\n",
    "plt.tight_layout()\n",
    "plt.savefig('./results/pics/groupSSVEP.png', dpi=200, format='png')"
   ]
  },
  {
   "cell_type": "code",
   "execution_count": null,
   "metadata": {},
   "outputs": [],
   "source": []
  }
 ],
 "metadata": {
  "interpreter": {
   "hash": "738b996afe2da5960d326b652730d0fe79e83941aa5e7e236ea36fecd662bb25"
  },
  "kernelspec": {
   "display_name": "Python 3.8.5 ('base')",
   "language": "python",
   "name": "python3"
  },
  "language_info": {
   "codemirror_mode": {
    "name": "ipython",
    "version": 3
   },
   "file_extension": ".py",
   "mimetype": "text/x-python",
   "name": "python",
   "nbconvert_exporter": "python",
   "pygments_lexer": "ipython3",
   "version": "3.8.5"
  },
  "orig_nbformat": 4
 },
 "nbformat": 4,
 "nbformat_minor": 2
}
